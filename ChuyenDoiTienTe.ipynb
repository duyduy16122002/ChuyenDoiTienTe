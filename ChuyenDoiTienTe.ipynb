{
 "cells": [
  {
   "cell_type": "code",
   "execution_count": 3,
   "id": "f20de7c9",
   "metadata": {},
   "outputs": [
    {
     "name": "stdout",
     "output_type": "stream",
     "text": [
      "Nhập số tiền USD: 5\n",
      "5.0 $ = 110000.0 VND\n"
     ]
    }
   ],
   "source": [
    "usd = float(input(\"Nhập số tiền USD: \"))\n",
    "vnd = usd*22000\n",
    "print(f'{usd} $ = {vnd} VND')"
   ]
  },
  {
   "cell_type": "code",
   "execution_count": null,
   "id": "0e299827",
   "metadata": {},
   "outputs": [],
   "source": []
  }
 ],
 "metadata": {
  "kernelspec": {
   "display_name": "Python 3 (ipykernel)",
   "language": "python",
   "name": "python3"
  },
  "language_info": {
   "codemirror_mode": {
    "name": "ipython",
    "version": 3
   },
   "file_extension": ".py",
   "mimetype": "text/x-python",
   "name": "python",
   "nbconvert_exporter": "python",
   "pygments_lexer": "ipython3",
   "version": "3.9.12"
  }
 },
 "nbformat": 4,
 "nbformat_minor": 5
}
